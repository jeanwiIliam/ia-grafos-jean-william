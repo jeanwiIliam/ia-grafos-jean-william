{
  "nbformat": 4,
  "nbformat_minor": 0,
  "metadata": {
    "colab": {
      "provenance": []
    },
    "kernelspec": {
      "name": "python3",
      "display_name": "Python 3"
    },
    "language_info": {
      "name": "python"
    }
  },
  "cells": [
    {
      "cell_type": "markdown",
      "source": [
        "**Lista de Exercícios N2**\n",
        "\n",
        "Tema: Grafos e Algoritmos de Busca (Dijkstra, A*, em-ordem, pré-ordem e pós-ordem)\n",
        "\n",
        "Disciplina: Inteligência Artificial\\\n",
        "Ambiente: Google Colab\\\n",
        "Entrega: via repositório individual no GitHub"
      ],
      "metadata": {
        "id": "51-tDsdpFH9B"
      }
    },
    {
      "cell_type": "markdown",
      "source": [
        "**Nome completo: Jean William da Costa Buzaglo**\\\n",
        "**Matricula: 2255693**\\\n",
        "**Turma: ENGCO221N01**"
      ],
      "metadata": {
        "id": "-02FfQpMKNEb"
      }
    },
    {
      "cell_type": "markdown",
      "source": [
        "**Regras Gerais**\n",
        "\n",
        "- Trabalho individual.\n",
        "\n",
        "- Linguagem: Python 3 (Google Colab).\n",
        "\n",
        "- É permitido usar: heapq, numpy, matplotlib, dataclasses.\n",
        "\n",
        "- Proibido usar funções prontas de shortest path (networkx.shortest_path, scipy.sparse.csgraph.dijkstra, etc.).\n",
        "\n",
        "O Notebook (.ipynb) deve conter:\n",
        "\n",
        "- Identificação (nome, turma, link do GitHub)\n",
        "\n",
        "- Código, testes e reflexões\n",
        "\n",
        "- Seções organizadas conforme o roteiro abaixo."
      ],
      "metadata": {
        "id": "iJ41FayHF8rV"
      }
    },
    {
      "cell_type": "markdown",
      "source": [
        "**Parte A — Dijkstra (Caminho Mínimo em Grafos Ponderados Positivos)**\n",
        "\n",
        "> Imagine que você está projetando um sistema de navegação para ambulâncias em uma cidade. Cada interseção é representada como um nó e cada rua como uma aresta ponderada com o tempo médio de deslocamento. Você precisa encontrar a rota mais rápida entre o hospital e o local de atendimento, garantindo que o caminho tenha custo mínimo e seja correto mesmo em grandes redes urbanas.\n",
        "\n",
        "**Atividades**\n",
        "\n",
        "- Implemente o algoritmo de Dijkstra, retornando o custo mínimo (dist) e os predecessores (parent).\n",
        "\n",
        "- Crie uma função reconstruct_path(parent, target) que reconstrua o trajeto.\n",
        "\n",
        "Teste o algoritmo em um grafo de exemplo.\n",
        "\n",
        "**Explique (Questões Discursivas):**\n",
        "\n",
        "1. Por que Dijkstra exige arestas não negativas?\n",
        "\n",
        "2. Qual a complexidade do algoritmo com lista de adjacência e heapq?\n",
        "\n",
        "💡 Dica: Compare seu resultado com um mapa simples — se mudar o peso de uma rua, a rota muda?"
      ],
      "metadata": {
        "id": "XKYf0iFXGaV1"
      }
    },
    {
      "cell_type": "code",
      "source": [
        "import heapq\n",
        "from dataclasses import dataclass, field\n",
        "\n",
        "# algoritmo de dijsktra\n",
        "def dijkstra(grafo, inicio):\n",
        "    distancia_min = {no: float('inf') for no in grafo}\n",
        "    predecessor = {no: None for no in grafo}\n",
        "    distancia_min[inicio] = 0\n",
        "\n",
        "    fila = [(0, inicio)]\n",
        "\n",
        "    while fila:\n",
        "        custo_atual, no_atual = heapq.heappop(fila)\n",
        "        if custo_atual > distancia_min[no_atual]:\n",
        "            continue\n",
        "\n",
        "        for vizinho, peso in grafo[no_atual].items():\n",
        "            nova_distancia = custo_atual + peso\n",
        "            if nova_distancia < distancia_min[vizinho]:\n",
        "                distancia_min[vizinho] = nova_distancia\n",
        "                predecessor[vizinho] = no_atual\n",
        "                heapq.heappush(fila, (nova_distancia, vizinho))\n",
        "\n",
        "    return distancia_min, predecessor\n",
        "\n",
        "# reconstrucao do caminho\n",
        "def reconstruct_path(predecessor, destino):\n",
        "    caminho = []\n",
        "    atual = destino\n",
        "    while atual is not None:\n",
        "        caminho.append(atual)\n",
        "        atual = predecessor[atual]\n",
        "    caminho.reverse()\n",
        "    return caminho\n",
        "\n",
        "\n",
        "# grafo de exemplo\n",
        "grafo = {\n",
        "    'Hospital': {'Rua A': 3, 'Rua B': 4},\n",
        "    'Rua A': {'Hospital': 3, 'Rua C': 5, 'Rua D': 8},\n",
        "    'Rua B': {'Hospital': 4, 'Rua D': 2},\n",
        "    'Rua C': {'Rua A': 5, 'Rua D': 1, 'Destino': 3},\n",
        "    'Rua D': {'Rua A': 8, 'Rua B': 2, 'Rua C': 1, 'Destino': 2},\n",
        "    'Destino': {'Rua C': 3, 'Rua D': 2}\n",
        "}\n",
        "\n",
        "inicio = 'Hospital'\n",
        "destino = 'Destino'\n",
        "\n",
        "distancia, predecessor = dijkstra(grafo, inicio)\n",
        "caminho = reconstruct_path(predecessor, destino)\n",
        "\n",
        "print(f\"Custo mínimo partindo de {inicio} até cada ponto:\")\n",
        "for no, d in distancia.items():\n",
        "    print(f\"{no}: {d}\")\n",
        "\n",
        "print(f\"\\nCaminho mais rápido até {destino}:\")\n",
        "print(\" ➜ \".join(caminho))\n",
        "print(f\"\\nCusto total: {distancia[destino]}\")\n"
      ],
      "metadata": {
        "id": "_7qVHP30FFF5",
        "colab": {
          "base_uri": "https://localhost:8080/"
        },
        "outputId": "5c4ca24f-658c-4ab8-8375-49d8abe1d447"
      },
      "execution_count": 8,
      "outputs": [
        {
          "output_type": "stream",
          "name": "stdout",
          "text": [
            "Custo mínimo partindo de Hospital até cada ponto:\n",
            "Hospital: 0\n",
            "Rua A: 3\n",
            "Rua B: 4\n",
            "Rua C: 7\n",
            "Rua D: 6\n",
            "Destino: 8\n",
            "\n",
            "Caminho mais rápido até Destino:\n",
            "Hospital ➜ Rua B ➜ Rua D ➜ Destino\n",
            "\n",
            "Custo total: 8\n"
          ]
        }
      ]
    },
    {
      "cell_type": "markdown",
      "source": [
        "# ***Respostas das Discursivas A:***\n",
        "\n",
        "*1.   O algoritmo de Dijkstra exige arestas não negativas porque ao visitar um nó com menor custo atual, ele assume que já encontrou o melhor caminho até ele. Se tivesse arestas negativas, um caminho posterior poderia diminuir o custo total, invalidando essa suposição, ou seja, arestas negativas quebrariam a lógica do algoritmo.*\n",
        "\n",
        "*2.   A complexidade se dá pela fórmula O ( ( V + E ) logV ), onde:*\n",
        "\n",
        "          V = número de vértices;\n",
        "          E = número de arestas;\n",
        "          O fator log V vem do uso da heapq (fila de prioridade);\n",
        "*O tempo que o algoritmo leva depende do número de pontos da cidade (V) e do número de ruas/conexões (E), multiplicado pelo custo de manter a fila de prioridades ordenada (log V). Quanto mais pontos e ruas, mais tempo ele vai levar, mas a heap ajuda a não ter que procurar o menor custo manualmente.*\n",
        "\n",
        "*3.   Se mudar o peso de uma rua no grafo, a rota final vai mudar sim, mostrando que o algoritmo está funcionando corretamente, pois vai priorizar sempre a menor distância total entre o ponto inicial e o destino.*"
      ],
      "metadata": {
        "id": "RzEKSx6PGvPF"
      }
    },
    {
      "cell_type": "markdown",
      "source": [
        "**Parte B — A-Star (Busca Informada com Heurística Admissível)**\n",
        "\n",
        "> Agora, considere um robô autônomo que deve se deslocar por um labirinto 2D, evitando obstáculos e chegando ao destino no menor tempo possível.\n",
        "Diferente do Dijkstra, o robô pode usar uma heurística (como a distância ao alvo) para priorizar rotas promissoras, economizando tempo de busca.\n",
        "\n",
        "**Atividades**\n",
        "\n",
        "1. Gere um grid 20x20 com ~15% de obstáculos aleatórios.\n",
        "\n",
        "2. Implemente a função heuristic(a, b) (distância Manhattan).\n",
        "\n",
        "3. Desenvolva o algoritmo a_star(grid, start, goal, h) e teste-o.\n",
        "\n",
        "**Explique (Questões Discursivas):**\n",
        "\n",
        "1. A* vs Dijkstra: qual expande menos nós?\n",
        "\n",
        "2. Por que a heurística Manhattan é admissível nesse caso?\n",
        "\n",
        "💡 Cenário real: O A* é amplamente usado em robôs aspiradores, drones e jogos. Seu desafio é aplicar o mesmo raciocínio."
      ],
      "metadata": {
        "id": "9vCEA95GGx_6"
      }
    },
    {
      "cell_type": "code",
      "source": [
        "import numpy as np\n",
        "import heapq\n",
        "import matplotlib.pyplot as plt\n",
        "\n",
        "# grid 20x20 com obstáculos 15%\n",
        "def gerar_grid(tamanho=20, obstaculos=0.15, seed=None):\n",
        "    if seed is not None:\n",
        "        np.random.seed(seed)\n",
        "    grid = np.zeros((tamanho, tamanho), dtype=int)\n",
        "    num_obstaculos = int(tamanho * tamanho * obstaculos)\n",
        "    obstaculos_coords = np.random.choice(tamanho * tamanho, num_obstaculos, replace=False)\n",
        "    for idx in obstaculos_coords:\n",
        "        r, c = divmod(idx, tamanho)\n",
        "        grid[r, c] = 1\n",
        "    return grid\n",
        "\n",
        "# heurística de manhattan\n",
        "def heuristic(a, b):\n",
        "    return abs(a[0] - b[0]) + abs(a[1] - b[1])\n",
        "\n",
        "# algoritmo a-star\n",
        "def a_star(grid, start, goal, h):\n",
        "    rows, cols = grid.shape\n",
        "    open_heap = []\n",
        "    heapq.heappush(open_heap, (h(start, goal), 0, start))\n",
        "\n",
        "    came_from = {}\n",
        "    g_score = {start: 0}\n",
        "    closed = set()\n",
        "    nodes_expanded = 0\n",
        "\n",
        "    while open_heap:\n",
        "        f, g, current = heapq.heappop(open_heap)\n",
        "        if current in closed:\n",
        "            continue\n",
        "        closed.add(current)\n",
        "        nodes_expanded += 1\n",
        "\n",
        "        if current == goal:\n",
        "            caminho = []\n",
        "            while current in came_from:\n",
        "                caminho.append(current)\n",
        "                current = came_from[current]\n",
        "            caminho.append(start)\n",
        "            caminho.reverse()\n",
        "            return caminho, nodes_expanded\n",
        "\n",
        "        for dr, dc in [(-1,0), (1,0), (0,-1), (0,1)]:\n",
        "            nr, nc = current[0] + dr, current[1] + dc\n",
        "            if 0 <= nr < rows and 0 <= nc < cols and grid[nr, nc] == 0:\n",
        "                vizinho = (nr, nc)\n",
        "                tentative_g = g_score[current] + 1\n",
        "                if vizinho not in g_score or tentative_g < g_score[vizinho]:\n",
        "                    came_from[vizinho] = current\n",
        "                    g_score[vizinho] = tentative_g\n",
        "                    f_vizinho = tentative_g + h(vizinho, goal)\n",
        "                    heapq.heappush(open_heap, (f_vizinho, tentative_g, vizinho))\n",
        "\n",
        "    return None, nodes_expanded\n",
        "\n",
        "# teste e visualização\n",
        "grid = gerar_grid(seed=42)\n",
        "start = (0, 0)\n",
        "goal = (19, 19)\n",
        "grid[start] = 0\n",
        "grid[goal] = 0\n",
        "\n",
        "caminho, expandidos = a_star(grid, start, goal, heuristic)\n",
        "\n",
        "print(f\"Nós expandidos: {expandidos}\")\n",
        "if caminho:\n",
        "    print(f\"Caminho encontrado com {len(caminho)-1} passos.\\n\")\n",
        "else:\n",
        "    print(\"Nenhum caminho encontrado.\")\n",
        "\n",
        "# desenha o grid e o caminho\n",
        "plt.figure(figsize=(6,6))\n",
        "plt.imshow(grid, cmap='Greys', origin='upper')\n",
        "if caminho:\n",
        "    ys, xs = zip(*caminho)\n",
        "    plt.plot(xs, ys, color='red')\n",
        "plt.scatter(start[1], start[0], color='green', s=100, label='Start')\n",
        "plt.scatter(goal[1], goal[0], color='blue', s=100, label='Goal')\n",
        "plt.legend()\n",
        "plt.title('Caminho A* (vermelho) no Grid')\n",
        "plt.show()\n"
      ],
      "metadata": {
        "id": "zQ1WgmxRFB8N",
        "colab": {
          "base_uri": "https://localhost:8080/",
          "height": 597
        },
        "outputId": "cd5371f6-fdb2-4056-9dce-1a17c8ab36f2"
      },
      "execution_count": 7,
      "outputs": [
        {
          "output_type": "stream",
          "name": "stdout",
          "text": [
            "Nós expandidos: 303\n",
            "Caminho encontrado com 38 passos.\n",
            "\n"
          ]
        },
        {
          "output_type": "display_data",
          "data": {
            "text/plain": [
              "<Figure size 600x600 with 1 Axes>"
            ],
            "image/png": "[encoded data removed]"
          },
          "metadata": {}
        }
      ]
    },
    {
      "cell_type": "markdown",
      "source": [
        "# ***Respostas das Discursivas B:***\n",
        "\n",
        "\n",
        "*1.   O algoritmo A** *expande menos nós, porque ele usa uma heurística para estimar a distância até o objetivo e prioriza caminhos mais promissores. Já o Dijkstra explora todos os caminhos possíveis com o menor custo acumulado, sem considerar a direção do destino.*\n",
        "\n",
        "*2.   A heurística Manhattan é admissível nesse caso porque nunca superestima o custo real, ela considera apenas movimentos horizontais e verticais, que são os únicos permitidos no grid. Ou seja, o valor estimado da heurística é sempre menor ou igual ao custo real do caminho mais curto.*\n",
        "\n"
      ],
      "metadata": {
        "id": "wi4rvVY743UK"
      }
    },
    {
      "cell_type": "markdown",
      "source": [
        "**Parte C — Árvores Binárias e Percursos (DFS em-ordem, pré-ordem e pós-ordem)**\n",
        "\n",
        "> Você está desenvolvendo um sistema de recomendação que organiza produtos em uma árvore binária de busca (BST), conforme o preço. Cada nó é um produto e a travessia da árvore pode ser usada para: 1. Ordenar produtos (em-ordem); 2. Clonar a estrutura (pré-ordem); 3. Calcular totais ou liberar memória (pós-ordem);\n",
        "\n",
        "**Atividades**\n",
        "\n",
        "1. Crie uma BST com os valores: [50, 30, 70, 20, 40, 60, 80, 35, 45].\n",
        "\n",
        "Implemente os percursos:\n",
        "\n",
        "1. in_order(root)\n",
        "\n",
        "2. pre_order(root)\n",
        "\n",
        "3. post_order(root)\n",
        "\n",
        "Teste se as saídas correspondem às travessias esperadas.\n",
        "\n",
        "**Explique (Questões Discursivas):**\n",
        "\n",
        "1. Em que situação cada tipo de percurso é mais indicado?"
      ],
      "metadata": {
        "id": "qJ1Rbf22IASJ"
      }
    },
    {
      "cell_type": "code",
      "source": [
        "# classe que representa 1 nó da árvore\n",
        "class Node:\n",
        "    def __init__(self, valor):\n",
        "        self.valor = valor\n",
        "        self.esquerda = None\n",
        "        self.direita = None\n",
        "\n",
        "# inserir nós na árvore\n",
        "def inserir(root, valor):\n",
        "    if root is None:\n",
        "        return Node(valor)\n",
        "    if valor < root.valor:\n",
        "        root.esquerda = inserir(root.esquerda, valor)\n",
        "    else:\n",
        "        root.direita = inserir(root.direita, valor)\n",
        "    return root\n",
        "\n",
        "# percursos\n",
        "def em_ordem(root):\n",
        "    if root:\n",
        "        em_ordem(root.esquerda)\n",
        "        print(root.valor, end=' ')\n",
        "        em_ordem(root.direita)\n",
        "\n",
        "def pre_ordem(root):\n",
        "    if root:\n",
        "        print(root.valor, end=' ')\n",
        "        pre_ordem(root.esquerda)\n",
        "        pre_ordem(root.direita)\n",
        "\n",
        "def pos_ordem(root):\n",
        "    if root:\n",
        "        pos_ordem(root.esquerda)\n",
        "        pos_ordem(root.direita)\n",
        "        print(root.valor, end=' ')\n",
        "\n",
        "\n",
        "# construcao da árvore e teste\n",
        "valores = [50, 30, 70, 20, 40, 60, 80, 35, 45]\n",
        "raiz = None\n",
        "\n",
        "for v in valores:\n",
        "    raiz = inserir(raiz, v)\n",
        "\n",
        "print(\"Percurso em-ordem:\")\n",
        "em_ordem(raiz)\n",
        "print(\"\\n\\nPercurso pré-ordem:\")\n",
        "pre_ordem(raiz)\n",
        "print(\"\\n\\nPercurso pós-ordem:\")\n",
        "pos_ordem(raiz)\n"
      ],
      "metadata": {
        "id": "jxol5GNCIrM9",
        "colab": {
          "base_uri": "https://localhost:8080/"
        },
        "outputId": "666cfe58-3904-4350-9fc2-ab542ecfad3e"
      },
      "execution_count": 6,
      "outputs": [
        {
          "output_type": "stream",
          "name": "stdout",
          "text": [
            "Percurso em-ordem:\n",
            "20 30 35 40 45 50 60 70 80 \n",
            "\n",
            "Percurso pré-ordem:\n",
            "50 30 20 40 35 45 70 60 80 \n",
            "\n",
            "Percurso pós-ordem:\n",
            "20 35 45 40 30 60 80 70 50 "
          ]
        }
      ]
    },
    {
      "cell_type": "markdown",
      "source": [
        "# ***Respostas das Discursivas C:***\n",
        "\n",
        "\n",
        "*1.   O percurso em-ordem é utilizado quando o objetivo é obter os elementos da árvore em ordem crescente, o que o torna ideal para exibir ou ordenar dados.*\n",
        "\n",
        "*O percurso pré-ordem é indicado quando é necessário clonar ou reconstruir a estrutura da árvore, pois visita primeiro o nó raiz e depois seus filhos.*\n",
        "\n",
        "*Já o percurso pós-ordem é usado quando se deseja liberar memória ou realizar cálculos envolvendo os nós filhos antes do nó pai, como somatórios ou exclusões em sequência segura.*"
      ],
      "metadata": {
        "id": "oByyhAjt9Lc1"
      }
    },
    {
      "cell_type": "markdown",
      "source": [
        "**Parte D — Reflexões (Respostas Curtas)**\n",
        "\n",
        "Responda de forma argumentativa (5–10 linhas cada):\n",
        "\n",
        "1. Quando não é vantajoso usar A*, mesmo tendo uma heurística?\n",
        "\n",
        "2. Diferencie corretude e otimalidade nos algoritmos estudados.\n",
        "\n",
        "3. Dê um exemplo do mundo real onde cada tipo de percurso (em, pré, pós) é essencial.\n",
        "\n",
        "4. Como heurísticas inconsistentes podem afetar o resultado do A*?\n",
        "\n",
        "💬 Sugestão: use exemplos de mapas, jogos, sistemas de busca ou árvores sintáticas."
      ],
      "metadata": {
        "id": "5bocfC3rIuwu"
      }
    },
    {
      "cell_type": "markdown",
      "source": [
        "# ***Respostas das Discursivas D:***\n",
        "\n",
        "1. Não é vantajoso usar A* quando o grafo é muito grande e a heurística não consegue orientar direito a busca como, por exemplo, quando todos os custos são parecidos ou a heurística é pouco informativa. Nesses casos, o algoritmo vai expandir quase tantos nós quanto o Dijkstra, mas com maior consumo de memória e processamento. Outros casos onde não é vantajoso são quando o problema é simples ou quando o melhor caminho pode ser encontrado rapidamente por métodos mais diretos.\n",
        "\n",
        "2. A corretude garante que o algoritmo sempre encontre uma solução válida, se ela existir. Já a otimalidade assegura que essa solução é a melhor possível, ou seja, o caminho de menor custo. Por exemplo, tanto o Dijkstra quanto o A* são corretos, mas só são ótimos quando as arestas têm pesos não negativos e, no caso do A*, quando a heurística é consistente e admissível.\n",
        "\n",
        "3. O percurso em-ordem é essencial em sistemas de catálogo ou e-commerce, onde os produtos precisam ser exibidos em ordem crescente de preço, por exemplo. O pré-ordem é usado em jogos ou sistemas de IA que precisam copiar ou salvar a estrutura de decisão de uma árvore. Já o pós-ordem é importante nos compiladores, que analisam expressões matemáticas resolvendo primeiro os operandos antes do operador principal.\n",
        "\n",
        "4. Heurísticas inconsistentes podem fazer o A* expandir nós mais de uma vez, perdendo eficiência e podendo comprometer a otimalidade do resultado. Isso acontece porque o custo estimado deixa de obedecer a relação triangular, levando o algoritmo a revisar caminhos que já deveriam estar finalizados. Em casos mais extremos, o A* pode se comportar como uma busca sem heurística, desperdiçando o principal benefício de sua abordagem."
      ],
      "metadata": {
        "id": "8W_afmXGI6h3"
      }
    },
    {
      "cell_type": "markdown",
      "source": [
        "**Entrega**\n",
        "\n",
        "Crie um repositório público chamado ia-grafos-seu-nome.\n",
        "\n",
        "Envie para o repositório o arquivo ia_grafos_buscas.ipynb.\n",
        "\n",
        "Submeta o link do repositório no ambiente da disciplina **Portal Digital Fametro.**."
      ],
      "metadata": {
        "id": "vyWiRE5TJEUf"
      }
    },
    {
      "cell_type": "markdown",
      "source": [
        "**Integridade Acadêmica**\n",
        "\n",
        "1. O trabalho é individual.\n",
        "2. Discussões conceituais são permitidas, mas o código deve ser inteiramente autoral.\n",
        "3. Verificações de similaridade serão aplicadas a todas as submissões.\n",
        "4. Busque e estude os algoritmos através de pesquisas na internet, livros, slides da disciplina."
      ],
      "metadata": {
        "id": "xP1stx7fJcCV"
      }
    },
    {
      "cell_type": "code",
      "source": [],
      "metadata": {
        "id": "uxmWR_KlJXDC"
      },
      "execution_count": null,
      "outputs": []
    }
  ]
}